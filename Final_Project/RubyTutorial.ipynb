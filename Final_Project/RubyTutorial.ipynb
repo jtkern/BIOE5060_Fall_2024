{
  "nbformat": 4,
  "nbformat_minor": 0,
  "metadata": {
    "colab": {
      "provenance": [],
      "toc_visible": true,
      "authorship_tag": "ABX9TyMutuB1QmLwSzT46W/RG27r",
      "include_colab_link": true
    },
    "kernelspec": {
      "name": "python3",
      "display_name": "Python 3"
    },
    "language_info": {
      "name": "python"
    }
  },
  "cells": [
    {
      "cell_type": "markdown",
      "metadata": {
        "id": "view-in-github",
        "colab_type": "text"
      },
      "source": [
        "<a href=\"https://colab.research.google.com/github/jtkern/BIOE5060_Fall_2024/blob/main/Final_Project/RubyTutorial.ipynb\" target=\"_parent\"><img src=\"https://colab.research.google.com/assets/colab-badge.svg\" alt=\"Open In Colab\"/></a>"
      ]
    },
    {
      "cell_type": "markdown",
      "source": [
        "# Ruby Programming Tutorial\n",
        "\n",
        "- by Joseph Kern (kern.jo@northeastern.edu)"
      ],
      "metadata": {
        "id": "i9e88DUCrlEx"
      }
    },
    {
      "cell_type": "markdown",
      "source": [
        "# Step 0 - Setup the notebook environment\n",
        "\n",
        "This code was written by Landon Gray to allow Ruby to properly run in Google Colab. https://thedayisntgray.github.io/now/2024/10/27/google-colab-ruby-magic/\n",
        "\n",
        "This lets us use %%ruby at the start of a code block to run ruby code."
      ],
      "metadata": {
        "id": "lvaQDf6asCIg"
      }
    },
    {
      "cell_type": "code",
      "execution_count": 1,
      "metadata": {
        "collapsed": true,
        "id": "RR1WlKazq70F",
        "colab": {
          "base_uri": "https://localhost:8080/",
          "height": 138
        },
        "outputId": "8716e0af-d789-47c9-d6ba-dc0318d98e0f"
      },
      "outputs": [
        {
          "output_type": "stream",
          "name": "stdout",
          "text": [
            "Ruby is not installed, attempting to install...\n",
            "Ruby installation complete\n"
          ]
        },
        {
          "output_type": "execute_result",
          "data": {
            "text/plain": [
              "<bound method RubySession.cleanup of <__main__.RubySession object at 0x7bdeb6cdb0a0>>"
            ],
            "text/html": [
              "<div style=\"max-width:800px; border: 1px solid var(--colab-border-color);\"><style>\n",
              "      pre.function-repr-contents {\n",
              "        overflow-x: auto;\n",
              "        padding: 8px 12px;\n",
              "        max-height: 500px;\n",
              "      }\n",
              "\n",
              "      pre.function-repr-contents.function-repr-contents-collapsed {\n",
              "        cursor: pointer;\n",
              "        max-height: 100px;\n",
              "      }\n",
              "    </style>\n",
              "    <pre style=\"white-space: initial; background:\n",
              "         var(--colab-secondary-surface-color); padding: 8px 12px;\n",
              "         border-bottom: 1px solid var(--colab-border-color);\"><b>RubySession.cleanup</b><br/>def cleanup()</pre><pre class=\"function-repr-contents function-repr-contents-collapsed\" style=\"\"><a class=\"filepath\" style=\"display:none\" href=\"#\">/content/&lt;ipython-input-1-92d91dc458f6&gt;</a>Clean up temporary files.</pre></div>"
            ]
          },
          "metadata": {},
          "execution_count": 1
        }
      ],
      "source": [
        "from IPython.core.magic import register_cell_magic\n",
        "import subprocess\n",
        "import os\n",
        "import re\n",
        "from sys import stderr\n",
        "import shutil\n",
        "import atexit\n",
        "\n",
        "class RubySession:\n",
        "    def __init__(self):\n",
        "        \"\"\"Initialize the Ruby session and ensure Ruby is installed.\"\"\"\n",
        "        self.code_history = []\n",
        "\n",
        "        # Install Ruby if not present\n",
        "        try:\n",
        "            subprocess.run(['which', 'ruby'], check=True, capture_output=True)\n",
        "            print(\"Ruby is already installed\")\n",
        "        except subprocess.CalledProcessError:\n",
        "            print(\"Ruby is not installed, attempting to install...\")\n",
        "            if shutil.which('apt-get'):\n",
        "                subprocess.run(['apt-get', 'update', '-y'], check=True)\n",
        "                subprocess.run(['apt-get', 'install', '-y', 'ruby-full'], check=True)\n",
        "                print(\"Ruby installation complete\")\n",
        "            else:\n",
        "                print(\"Error: Cannot install Ruby automatically. Please install Ruby manually.\")\n",
        "                raise EnvironmentError(\"Ruby not found and automatic installation failed.\")\n",
        "\n",
        "    def is_definition(self, code):\n",
        "        \"\"\"Check if the code contains definitions to be stored.\"\"\"\n",
        "        return bool(re.match(r'\\s*(\\w+\\s*=|def\\s|class\\s)', code))\n",
        "\n",
        "    def execute(self, code):\n",
        "        \"\"\"Execute Ruby code within the session.\"\"\"\n",
        "        try:\n",
        "            full_code = \"\"\"\n",
        "begin\n",
        "  # Previous code\n",
        "  {}\n",
        "  # New code\n",
        "  {}\n",
        "rescue => e\n",
        "  puts \"Error: # - #\"\n",
        "  puts e.backtrace\n",
        "end\n",
        "\"\"\".format('\\n  '.join(self.code_history), code)\n",
        "            result = subprocess.run(['ruby'],\n",
        "                                    input=full_code,\n",
        "                                    capture_output=True,\n",
        "                                    text=True)\n",
        "            if result.returncode == 0 and self.is_definition(code):\n",
        "                self.code_history.append(code)\n",
        "            return result.stdout, result.stderr\n",
        "        except subprocess.CalledProcessError as e:\n",
        "            return '', f\"Subprocess error: {e}\"\n",
        "        except Exception as e:\n",
        "            return '', f\"Unexpected error: {e}\"\n",
        "\n",
        "    def cleanup(self):\n",
        "        \"\"\"Clean up temporary files.\"\"\"\n",
        "        pass\n",
        "\n",
        "    def reset(self):\n",
        "        \"\"\"Reset the session by clearing code history.\"\"\"\n",
        "        self.code_history = []\n",
        "\n",
        "# Create global session\n",
        "ruby_session = RubySession()\n",
        "\n",
        "@register_cell_magic\n",
        "def ruby(line, cell):\n",
        "    if 'reset' in line:\n",
        "        ruby_session.reset()\n",
        "        print(\"Ruby session reset\")\n",
        "        return\n",
        "    try:\n",
        "        stdout, stderr_content = ruby_session.execute(cell)\n",
        "        if stdout:\n",
        "            print(stdout, end='')\n",
        "        elif not stderr_content:\n",
        "            print(\"Code executed successfully with no output.\")\n",
        "        if stderr_content:\n",
        "            print(stderr_content, file=stderr, end='')\n",
        "    except Exception as e:\n",
        "        print(f\"Error executing Ruby code: {e}\", file=stderr)\n",
        "\n",
        "# Register magic function and cleanup\n",
        "get_ipython().register_magic_function(ruby, magic_kind='cell')\n",
        "atexit.register(ruby_session.cleanup)"
      ]
    },
    {
      "cell_type": "markdown",
      "source": [
        "# Brief History\n",
        "\n",
        "Ruby is a language created to be natural for the user to write. It was released in 1995, created by Yukihiro \"Matz\" Matsumoto combining parts of many different languages, like Perl and Lisp to balance functional and imperative programming."
      ],
      "metadata": {
        "id": "oZlhnsW-sQQX"
      }
    },
    {
      "cell_type": "markdown",
      "source": [
        "# Advantages, Disadvantages, and Specialities of Ruby\n",
        "\n",
        "Ruby takes an object-oriented approach to scripting. It is a flexible language where every part can be altered, removed, or redefined.\n",
        "\n",
        "Ruby's main strengths lie in this flexibility, and its natural syntax and readability.\n",
        "\n",
        "The main disadvantage of Ruby is speed. It will run much slower than C because all of the code needs to be interpreted first."
      ],
      "metadata": {
        "id": "AHhaFMMZsS5q"
      }
    },
    {
      "cell_type": "markdown",
      "source": [
        "# Language Synopsis\n",
        "\n",
        "Ruby has many of the same variable types as previous languages we have looked at, including strings, arrays, integers, and more. Ruby is mostly organized with methods and classes.\n",
        "\n",
        "Basic Operators\n",
        "```\n",
        "+ add\n",
        "- subtract\n",
        "* multiply\n",
        "** power\n",
        "/ divide\n",
        "% divide and get remainder\n",
        "& AND\n",
        "^ exclusive OR\n",
        ">> right-shift\n",
        "<< left-shift or append\n",
        "== equal\n",
        "!= not equal\n",
        "=== case equality\n",
        "=~ pattern match\n",
        "!~ does not match\n",
        "<=> comparison\n",
        "< less-than\n",
        "<= less-than or equal to\n",
        "> greater-than\n",
        ">= greater-than or equal to\n",
        "```"
      ],
      "metadata": {
        "id": "SV5dNM8xsX8v"
      }
    },
    {
      "cell_type": "code",
      "source": [
        "%%ruby\n",
        "\n",
        "a = 5%3\n",
        "puts a"
      ],
      "metadata": {
        "colab": {
          "base_uri": "https://localhost:8080/"
        },
        "id": "xQNOfvvYb_2v",
        "outputId": "b0a6d1c5-7bac-4153-dfad-31f146830e07"
      },
      "execution_count": 8,
      "outputs": [
        {
          "output_type": "stream",
          "name": "stdout",
          "text": [
            "2\n",
            "2\n",
            "2\n"
          ]
        }
      ]
    },
    {
      "cell_type": "code",
      "source": [
        "%%ruby\n",
        "\n",
        "puts \"Hello World\" # this is the basic print statement in Ruby"
      ],
      "metadata": {
        "colab": {
          "base_uri": "https://localhost:8080/"
        },
        "id": "7ud_GOsVwfd3",
        "outputId": "b60d05fa-1a1b-4ac0-cab2-e5ac9758256a"
      },
      "execution_count": 2,
      "outputs": [
        {
          "output_type": "stream",
          "name": "stdout",
          "text": [
            "Hello World\n"
          ]
        }
      ]
    },
    {
      "cell_type": "markdown",
      "source": [
        "# Data Structures\n",
        "\n",
        "Ruby's variable types are called literals. The basic ones include booleans, integers, floats, rationals(fractions), and complex literals, many of which we have seen before in the other languages we have learned.\n",
        "\n",
        "Ruby also has strings, characters, ranges, arrays, methods, and classes."
      ],
      "metadata": {
        "id": "IvXoVeytsbeE"
      }
    },
    {
      "cell_type": "code",
      "source": [
        "%%ruby\n",
        "\n",
        "a = 5.0/3\n",
        "puts a"
      ],
      "metadata": {
        "id": "GNCwNpCBdEP9"
      },
      "execution_count": null,
      "outputs": []
    },
    {
      "cell_type": "code",
      "source": [
        "%%ruby\n",
        "\n",
        "# Boolean Literals\n",
        "a = true\n",
        "b = false # nil can also be used as false, however it can also indicate \"unknown\"\n",
        "puts a\n",
        "puts b\n",
        "puts \"------------------------------------------------------------------------------\"\n",
        "\n",
        "# Integer Literals\n",
        "c = 1\n",
        "d = 1054\n",
        "e = 1_054 # The underscore can be used for readability, as a comma would be\n",
        "puts c\n",
        "puts d\n",
        "puts e\n",
        "puts \"------------------------------------------------------------------------------\"\n",
        "\n",
        "# To change to decimal, use the 0d prefix, for hexadecimal, use 0x, for octal use 0o, and for binary use 0b\n",
        "f = 0d56 #This is the value 56 as a decimal\n",
        "puts f\n",
        "puts \"------------------------------------------------------------------------------\"\n",
        "\n",
        "# Float Literals\n",
        "g = 1.4 # This works just like Python, it is untyped\n",
        "puts g\n",
        "puts \"------------------------------------------------------------------------------\"\n",
        "\n",
        "# Rational Literals\n",
        "h = 2/3r # This translates to 2/3\n",
        "puts h\n",
        "puts \"------------------------------------------------------------------------------\"\n",
        "\n",
        "# Complex Literals\n",
        "i = 5 + 4i # To write a complex number, simply use the suffix i\n",
        "puts i\n",
        "puts \"------------------------------------------------------------------------------\"\n",
        "\n",
        "# Strings\n",
        "j = \"This is how you write a string in Ruby.\"\n",
        "k = \"This is \" \"a string.\" # Ruby will automatically concatenate strings when they are adjacent to each other\n",
        "puts j\n",
        "puts k\n",
        "puts \"------------------------------------------------------------------------------\"\n",
        "\n",
        "# Character Literals\n",
        "l = ?a # Characters are recognized with the ? prefix\n",
        "puts l\n",
        "puts \"------------------------------------------------------------------------------\"\n",
        "\n",
        "# Range Literals\n",
        "m = (1..10) # Range from 1 to 10 including 10\n",
        "n = (1...10) # Range from 1 to 10 not including 10\n",
        "o = (1..) # Range from 1 to infinity\n",
        "p = (..1) # Range from -infinity to 1\n",
        "\n",
        "# Array Literals\n",
        "array = [1, 2, 3, 4, 5, 6] # Arrays can be defined easily\n",
        "array = Array.new(10) # You can also create an array with a predetermined length\n",
        "\n",
        "array2d = [[1, 2], [3, 4]] # Creating a 2D array is also achievable with just a few extra brackets\n",
        "array2d = Array.new(2) { Array.new(2)} # This creates a 2x2 empty array\n",
        "\n",
        "# Methods\n",
        "def MyMethod\n",
        "  s = 1\n",
        "  puts s\n",
        "end\n",
        "\n",
        "# Classes\n",
        "class MyClass\n",
        "  t = 1\n",
        "end"
      ],
      "metadata": {
        "colab": {
          "base_uri": "https://localhost:8080/"
        },
        "id": "Gk4mGBuL7YyJ",
        "outputId": "aec74700-c77f-44dd-ecee-a247a41c4eee",
        "collapsed": true
      },
      "execution_count": 9,
      "outputs": [
        {
          "output_type": "stream",
          "name": "stdout",
          "text": [
            "2\n",
            "2\n",
            "2\n",
            "true\n",
            "false\n",
            "------------------------------------------------------------------------------\n",
            "1\n",
            "1054\n",
            "1054\n",
            "------------------------------------------------------------------------------\n",
            "56\n",
            "------------------------------------------------------------------------------\n",
            "1.4\n",
            "------------------------------------------------------------------------------\n",
            "2/3\n",
            "------------------------------------------------------------------------------\n",
            "5+4i\n",
            "------------------------------------------------------------------------------\n",
            "This is how you write a string in Ruby.\n",
            "This is a string.\n",
            "------------------------------------------------------------------------------\n",
            "a\n",
            "------------------------------------------------------------------------------\n"
          ]
        }
      ]
    },
    {
      "cell_type": "markdown",
      "source": [
        "# Branches and Loops\n",
        "\n",
        "Ruby uses ifs, unlesses, case, while, until, and for loops."
      ],
      "metadata": {
        "id": "M2sMyHtDseCt"
      }
    },
    {
      "cell_type": "code",
      "source": [
        "%%ruby\n",
        "\n",
        "# If Statements\n",
        "if true then\n",
        "  puts \"This is true.\"\n",
        "end\n",
        "\n",
        "if true # You can also exclude the then\n",
        "  puts \"This is true.\"\n",
        "else # You can use an else to evaluate if the if is false\n",
        "  puts \"This is false.\"\n",
        "end\n",
        "\n",
        "value = 1\n",
        "if value == 0\n",
        "  puts \"The value is 0.\"\n",
        "elsif value == 1 # You can use an elsif to evaluate another case\n",
        "  puts \"The value is 1.\"\n",
        "else\n",
        " puts \"The value is neither 0 or 1.\"\n",
        "end\n",
        "\n",
        "food =\n",
        "  if gets =~ /fruit/i\n",
        "    puts \"fruit\"\n",
        "  else\n",
        "    puts \"vegetable\"\n",
        "  end\n",
        "# This code can also be written like this, with ? for an if statement:\n",
        "food = gets =~ /apple/i ? \"fruit\" : \"vegetable\"\n",
        "puts \"------------------------------------------------------------------------------\"\n",
        "\n",
        "# Unless Statements\n",
        "unless true # An unless statement is the opposite of an if statement\n",
        "  puts \"This is false.\"\n",
        "else # You can use else in an unless statement, but you cannot use elsif\n",
        "  puts \"This is true.\"\n",
        "end\n",
        "puts \"------------------------------------------------------------------------------\"\n",
        "\n",
        "# Modifying Statements with if and unless\n",
        "value = 0\n",
        "value += 2 if value.zero? # This will add 2 to value if it is equal to 0\n",
        "\n",
        "value = 0\n",
        "value += 2 unless value.zero? # This will add 2 unless value is equal to 0\n",
        "puts \"------------------------------------------------------------------------------\"\n",
        "\n",
        "# Case Expressions\n",
        "case \"586531\"\n",
        "when \"586531\"\n",
        "  puts \"The string matches.\"\n",
        "else\n",
        " puts \"The string does not match.\"\n",
        "end\n",
        "puts \"------------------------------------------------------------------------------\"\n",
        "\n",
        "#While Loops\n",
        "value = 0\n",
        "while value < 10 do # Writing do is optional\n",
        "  puts value\n",
        "  value += 2\n",
        "end\n",
        "puts value\n",
        "puts \"------------------------------------------------------------------------------\"\n",
        "\n",
        "# Until Loops\n",
        "value = 0\n",
        "until value > 10 do # The do is also optional here\n",
        "  puts value\n",
        "  value += 2\n",
        "end\n",
        "puts value\n",
        "puts \"------------------------------------------------------------------------------\"\n",
        "\n",
        "# For Loops\n",
        "for value in (1..10) do\n",
        "  puts value\n",
        "end\n",
        "\n",
        "for value in (1..10) do\n",
        "  puts value\n",
        "  break if value.even? # Breaks out of the loop if value becomes even\n",
        "end"
      ],
      "metadata": {
        "colab": {
          "base_uri": "https://localhost:8080/"
        },
        "id": "CPA_Xp64DF2V",
        "outputId": "4d6bf348-94ba-4259-f306-e1eab323460b"
      },
      "execution_count": 17,
      "outputs": [
        {
          "output_type": "stream",
          "name": "stdout",
          "text": [
            "2\n",
            "2\n",
            "2\n",
            "1\n",
            "1.6666666666666667\n",
            "This is true.\n",
            "This is true.\n",
            "The value is 1.\n",
            "vegetable\n",
            "------------------------------------------------------------------------------\n",
            "This is true.\n",
            "------------------------------------------------------------------------------\n",
            "------------------------------------------------------------------------------\n",
            "The string matches.\n",
            "------------------------------------------------------------------------------\n",
            "0\n",
            "2\n",
            "4\n",
            "6\n",
            "8\n",
            "10\n",
            "------------------------------------------------------------------------------\n",
            "0\n",
            "2\n",
            "4\n",
            "6\n",
            "8\n",
            "10\n",
            "12\n",
            "------------------------------------------------------------------------------\n",
            "1\n",
            "2\n",
            "3\n",
            "4\n",
            "5\n",
            "6\n",
            "7\n",
            "8\n",
            "9\n",
            "10\n",
            "1\n",
            "2\n"
          ]
        }
      ]
    },
    {
      "cell_type": "markdown",
      "source": [
        "# Organizing Code\n",
        "\n",
        "Ruby has a few ways to organize code, through modules, methods and classes.\n",
        "\n",
        "Modules can be used to organize code and prevent interference with other modules.\n",
        "\n",
        "Methods are essentially the same as functions like we see in Python.\n",
        "\n",
        "Classes are modules, but with a few restrictions to inherit from other classes."
      ],
      "metadata": {
        "id": "DcIp0IjMsheY"
      }
    },
    {
      "cell_type": "code",
      "source": [
        "%%ruby\n",
        "# Modules\n",
        "module MyModule # You can create a module with the module keyword\n",
        "  A = 1\n",
        "  module SecondModule # You can nest modules inside other modules\n",
        "    puts Module.nesting\n",
        "    puts B = A + 1 # A is accessible inside SecondModule because it is nested in MyModule that has A\n",
        "  end\n",
        "end\n",
        "puts \"------------------------------------------------------------------------------\"\n",
        "\n",
        "# Methods\n",
        "def multiply(a, b)\n",
        "  puts a*b\n",
        "  return a*b\n",
        "end\n",
        "\n",
        "multiply(3,4)\n",
        "ab = multiply(3,4)\n",
        "puts \"------------------------------------------------------------------------------\"\n",
        "\n",
        "# Classes\n",
        "class MyClass # You can create a class using the class keyword. The first letter of the class name must be capitalized\n",
        "  def printmethod # You can create a method inside a class for organization\n",
        "    puts \"This method prints this statement.\"\n",
        "  end\n",
        "end\n",
        "\n",
        "class SecondClass < MyClass # Using < you can create a class that inherits the contents of another class\n",
        "end\n",
        "\n",
        "puts SecondClass.new.printmethod # You can call the method defined in the higher level class through the class that inherited"
      ],
      "metadata": {
        "colab": {
          "base_uri": "https://localhost:8080/"
        },
        "id": "w4SNQ92uIG63",
        "outputId": "cbf53cd5-4cdd-4efe-a76c-58265fb8b3c9"
      },
      "execution_count": 18,
      "outputs": [
        {
          "output_type": "stream",
          "name": "stdout",
          "text": [
            "2\n",
            "2\n",
            "2\n",
            "1\n",
            "1.6666666666666667\n",
            "MyModule::SecondModule\n",
            "MyModule\n",
            "2\n",
            "------------------------------------------------------------------------------\n",
            "12\n",
            "12\n",
            "------------------------------------------------------------------------------\n",
            "This method prints this statement.\n",
            "\n"
          ]
        }
      ]
    },
    {
      "cell_type": "markdown",
      "source": [
        "# Executing Code\n",
        "\n",
        "Ruby is can be run in the terminal or in the Ruby Interactive Environment. So far, this tutorial has been using Google Colab like it is the interactive environment. In this example, we can create a text file the same as we have when learning C. We then create a class with a method that will print a sentence. Simply running\n",
        "```\n",
        "ruby testrubyfile.rb\n",
        "```\n",
        "will allow us to execute the code within. To see how to edit a file with Ruby, go to the next section titled \"Reading and Writing Files\"."
      ],
      "metadata": {
        "id": "PF8rvSpFskh5"
      }
    },
    {
      "cell_type": "code",
      "source": [
        "%%shell\n",
        "\n",
        "cat << EOF > testrubyfile.rb\n",
        "\n",
        "class TestClass\n",
        "  def printmethod\n",
        "    puts \"This method prints this statement.\"\n",
        "  end\n",
        "end\n",
        "\n",
        "puts TestClass.new.printmethod\n",
        "\n",
        "EOF\n",
        "\n",
        "ruby testrubyfile.rb"
      ],
      "metadata": {
        "colab": {
          "base_uri": "https://localhost:8080/"
        },
        "id": "eLbcCMX6MsXj",
        "outputId": "8421f852-805e-4de2-ab5d-2d5f459034d3"
      },
      "execution_count": 19,
      "outputs": [
        {
          "output_type": "stream",
          "name": "stdout",
          "text": [
            "This method prints this statement.\n",
            "\n"
          ]
        },
        {
          "output_type": "execute_result",
          "data": {
            "text/plain": []
          },
          "metadata": {},
          "execution_count": 19
        }
      ]
    },
    {
      "cell_type": "markdown",
      "source": [
        "# Reading and Writing Files"
      ],
      "metadata": {
        "id": "ssx9upVKspHA"
      }
    },
    {
      "cell_type": "code",
      "source": [
        "%%ruby\n",
        "# Reading Files\n",
        "file = File.open(\"testrubyfile.rb\") # First we open the file\n",
        "file_data = file.read # Then we read in the data\n",
        "puts file_data # We print out the data\n",
        "file.close # Close the file to save memory space\n",
        "\n",
        "# Writing Files\n",
        "File.write(\"testrubyfile.rb\", \"New text\") # Here we write to the file, replacing all text with new text\n",
        "file = File.open(\"testrubyfile.rb\")\n",
        "file_data = file.read\n",
        "puts file_data\n",
        "file.close\n",
        "\n",
        "File.write(\"testrubyfile.rb\", \" with even more text now!\", mode: \"a\") # Using append mode, we can add text instead of replacing it\n",
        "file = File.open(\"testrubyfile.rb\")\n",
        "file_data = file.read\n",
        "puts file_data\n",
        "file.close\n",
        "\n",
        "# Other Actions\n",
        "File.rename(\"testrubyfile.rb\", \"newname.rb\") # renames the file\n",
        "File.size (\"newname.rb\") # returns the file size in bytes\n",
        "File.exists?(\"newname.rb\") # checks if the file exists"
      ],
      "metadata": {
        "colab": {
          "base_uri": "https://localhost:8080/"
        },
        "id": "PfWJSMWAOkD2",
        "outputId": "2ac0d3c2-e3cd-43cc-8276-9780597fab76"
      },
      "execution_count": 20,
      "outputs": [
        {
          "output_type": "stream",
          "name": "stdout",
          "text": [
            "2\n",
            "2\n",
            "2\n",
            "1\n",
            "1.6666666666666667\n",
            "\n",
            "class TestClass\n",
            "  def printmethod\n",
            "    puts \"This method prints this statement.\"\n",
            "  end\n",
            "end\n",
            "\n",
            "puts TestClass.new.printmethod\n",
            "\n",
            "New text\n",
            "New text with even more text now!\n"
          ]
        }
      ]
    },
    {
      "cell_type": "markdown",
      "source": [
        "# Other Basic Features\n",
        "\n",
        "Ruby has great features for pattern matching. Ruby also has two distinct commenting types."
      ],
      "metadata": {
        "id": "tzQ7AXVMssYd"
      }
    },
    {
      "cell_type": "code",
      "source": [
        "%%ruby\n",
        "# Pattern Matching\n",
        "case {a: 2, b: 3, c: 4} # Here we create a hash and want to see if b is an integer\n",
        "in {b: Integer}\n",
        "  puts \"matched\"\n",
        "else\n",
        "  puts \"not matched\"\n",
        "end\n",
        "\n",
        "# Commenting\n",
        "# So far, all comments have been made using a # at the beginning of the comment.\n",
        "=begin\n",
        "However, we can also comment sections out using this format. So if we run:\n",
        "puts \"This will not print.\"\n",
        "it will not print.\n",
        "=end\n",
        "\n",
        "# Magic Comments\n",
        "# If these comments appear in the first comment section of a file, they are not ignored by Ruby, and can affect how the code is interpreted.\n",
        "# frozen_string_literal : true\n",
        "# warn_indent: true\n",
        "# and others"
      ],
      "metadata": {
        "colab": {
          "base_uri": "https://localhost:8080/"
        },
        "id": "FkTseT4mSNS0",
        "outputId": "a92bab91-a121-4b6b-87eb-6ffc946979b7"
      },
      "execution_count": 21,
      "outputs": [
        {
          "output_type": "stream",
          "name": "stdout",
          "text": [
            "2\n",
            "2\n",
            "2\n",
            "1\n",
            "1.6666666666666667\n",
            "matched\n"
          ]
        }
      ]
    },
    {
      "cell_type": "markdown",
      "source": [
        "# Intermediate Features\n",
        "\n",
        "Ruby has things called Procs, which you can use to manipulate variables and code like objects."
      ],
      "metadata": {
        "id": "NOlymsu4swHK"
      }
    },
    {
      "cell_type": "code",
      "source": [
        "%%ruby\n",
        "\n",
        "hello_name = Proc.new do |name| # This may look the same as how we call a method, without the keyword, but we can treat it as an object\n",
        "  puts \"Hello #{name}\" # We use #{} to take the name variable into our string\n",
        "end\n",
        "# By adding Proc.new before the do, we have made this code into a Proc\n",
        "hello_name.call \"Joseph\" # Unlike a method call where you may use (), here we just put the string after the Proc call\n",
        "\n",
        "def execute_proc some_proc # Here we create a function that takes in a Proc, something that methods struggle with\n",
        "  some_proc.call\n",
        "end\n",
        "\n",
        "hello = Proc.new do\n",
        "  puts \"Hello World\"\n",
        "end\n",
        "\n",
        "execute_proc hello # We can run the method to run the Proc with a simple call"
      ],
      "metadata": {
        "colab": {
          "base_uri": "https://localhost:8080/"
        },
        "id": "vBn3XfhwVhfp",
        "outputId": "6171e85e-1eb0-444e-d99d-5f2afccbba26"
      },
      "execution_count": 22,
      "outputs": [
        {
          "output_type": "stream",
          "name": "stdout",
          "text": [
            "2\n",
            "2\n",
            "2\n",
            "1\n",
            "1.6666666666666667\n",
            "Hello Joseph\n",
            "Hello World\n"
          ]
        }
      ]
    },
    {
      "cell_type": "markdown",
      "source": [
        "# References\n",
        "\n",
        "These resources helped me learn Ruby, and were instrumental in developing this tutorial.\n",
        "\n",
        "https://www.ruby-lang.org/en/\n",
        "\n",
        "https://thedayisntgray.github.io/now/2024/10/27/google-colab-ruby-magic/\n",
        "\n",
        "https://www.rubyguides.com/2015/05/working-with-files-ruby/\n",
        "\n",
        "https://i-love-ruby.gitlab.io/"
      ],
      "metadata": {
        "id": "Ho6v3XgWLR9Z"
      }
    }
  ]
}